{
 "cells": [
  {
   "cell_type": "markdown",
   "metadata": {},
   "source": [
    "# GameZone\n",
    "\n",
    "### Console Wars\n",
    "\n",
    "### Author: Wenyi Xu\n",
    "\n",
    "Discuss the epic console war amongst **Sony**, **Microsoft** and **Nintendo**.\n",
    "\n",
    "Scape to get some datasets for analysis and visualization to show the sales and other statistics for different platforms."
   ]
  },
  {
   "cell_type": "markdown",
   "metadata": {},
   "source": [
    "## Backgroud Information\n",
    "\n",
    "### Playstation Release timeline\n",
    "\n",
    "* PS1 Release Date\tSaturday - December 3, 1994\n",
    "\n",
    "* PS2 Release Date\tSaturday - March 4, 2000\n",
    "\n",
    "* PS3 Release Date\tSaturday - November 11, 2006\n",
    "\n",
    "* PS4 Release Date\tFriday - Nov 15, 2013 \n",
    "\n",
    "* PS4 Pro Release\tThursday - Nov 10, 2016 \n",
    "\n",
    "### Playstation Release timeline\n",
    "\n",
    "* Xbox Release Date\t- November 15, 2001\n",
    "\n",
    "* Xbox 360 Release Date\t- November 22, 2005\n",
    "\n",
    "* Xbox One Release Date\t- November 22, 2013\n",
    "\n",
    "* Xbox One X Release Date - June 13, 2016\n",
    "\n",
    "### Nintendo Platforms release timeline\n",
    "\n",
    "* NES Release Date - July 15, 1983\n",
    "\n",
    "* Nintendo 64 Release Date - June 23, 1996\n",
    "\n",
    "* GameCube Release Date - September 14, 2001\n",
    "\n",
    "* Wii Release Date - November 19, 2006\n",
    "\n",
    "* Wii u Release Date - November 18, 2012\n",
    "\n",
    "* Switch Release Date - March 3, 2017\n"
   ]
  },
  {
   "cell_type": "markdown",
   "metadata": {},
   "source": [
    "## Part 0: Scrape VGChartz\n",
    "\n",
    "Scrape VGChartz to get useful datasets about game and hardware sales for different platforms.\n",
    "\n",
    "I can only find sales data of home video games consoles on VGChartz starting from 25th Nov 2006 (PS3 & XBOX360 & Wii), so the data of PS2 and other previous consoles need to be extracted from other sources."
   ]
  },
  {
   "cell_type": "code",
   "execution_count": 31,
   "metadata": {},
   "outputs": [
    {
     "data": {
      "text/html": [
       "<style>\n",
       "    table {\n",
       "        display: inline-block\n",
       "    }\n",
       "</style>"
      ],
      "text/plain": [
       "<IPython.core.display.HTML object>"
      ]
     },
     "metadata": {},
     "output_type": "display_data"
    }
   ],
   "source": [
    "%%html\n",
    "<style>\n",
    "    table {\n",
    "        display: inline-block\n",
    "    }\n",
    "</style>"
   ]
  },
  {
   "cell_type": "code",
   "execution_count": 43,
   "metadata": {},
   "outputs": [],
   "source": [
    "import urllib3\n",
    "from bs4 import BeautifulSoup\n",
    "from datetime import date\n",
    "from datetime import datetime\n",
    "import math"
   ]
  },
  {
   "cell_type": "markdown",
   "metadata": {},
   "source": [
    "The VGChartz important pages that contain data we need"
   ]
  },
  {
   "cell_type": "code",
   "execution_count": 32,
   "metadata": {},
   "outputs": [],
   "source": [
    "# Main page\n",
    "vgchartz_main_url = 'http://www.vgchartz.com/'\n",
    "# Gloabl weekly sales\n",
    "# http://www.vgchartz.com/weekly/[date_id]/Global/\n",
    "# date_id: start from 39047 (25th Nov 2006) to 43058 (18th Nov 2017)\n",
    "date_id_start = 39047\n",
    "date_start = datetime(2006, 11, 25)\n",
    "date_id_end = 43058\n",
    "date_end = datetime(2017, 11, 18)\n",
    "\n",
    "date_id = 39047\n",
    "\n",
    "vgchartz_weekly_url_head = 'http://www.vgchartz.com/weekly/'\n",
    "vgchartz_weekly_url_tail = '/Global/'\n",
    "vgchartz_weekly_url = vgchartz_weekly_url_head + str(date_id) + vgchartz_weekly_url_tail"
   ]
  },
  {
   "cell_type": "markdown",
   "metadata": {},
   "source": [
    "Check if the date diff correspond to the date_id diff"
   ]
  },
  {
   "cell_type": "code",
   "execution_count": 27,
   "metadata": {},
   "outputs": [
    {
     "name": "stdout",
     "output_type": "stream",
     "text": [
      "4011 days, 0:00:00\n",
      "4011\n"
     ]
    }
   ],
   "source": [
    "print(datetime(2017, 11, 18) - date_start)\n",
    "print(43058 - 39047)"
   ]
  },
  {
   "cell_type": "markdown",
   "metadata": {},
   "source": [
    "### Function get_weekly_url\n",
    "\n",
    "We have\n",
    "\n",
    "* Start date: date_start (25th Nov 2006)\n",
    "\n",
    "* Start date id: date_id_start (39047)\n",
    "\n",
    "* End date: date_end (18th Nov 2017)\n",
    "\n",
    "* End date id: date_id_end (43058)\n",
    "\n",
    "When given a random date between 25th Nov 2006 & 18th Nov 2017, we want to first get its corresponding week_id, and then generate its vgchartz_weekly_url\n"
   ]
  },
  {
   "cell_type": "code",
   "execution_count": 47,
   "metadata": {},
   "outputs": [],
   "source": [
    "# date: in datetime format\n",
    "def get_weekly_url(date):\n",
    "    \n",
    "    if type(date) != type(date_end):\n",
    "        return 'Date must be type datetime'\n",
    "    if date < date_start or date > date_end:\n",
    "        return 'Date must be from 25th Nov 2006 to 18th Nov 2017'\n",
    "    \n",
    "    date_diff = date - date_start\n",
    "    day_diff = date_diff.days\n",
    "    # Round up\n",
    "    week_diff = math.ceil(day_diff/7.0)\n",
    "    date_id = date_id_start + week_diff*7\n",
    "    \n",
    "    vgchartz_weekly_url = vgchartz_weekly_url_head + str(date_id) + vgchartz_weekly_url_tail\n",
    "    return vgchartz_weekly_url"
   ]
  },
  {
   "cell_type": "code",
   "execution_count": 52,
   "metadata": {},
   "outputs": [
    {
     "name": "stdout",
     "output_type": "stream",
     "text": [
      "True\n",
      "True\n",
      "True\n",
      "True\n"
     ]
    }
   ],
   "source": [
    "# Test the function get_weekly_url\n",
    "print(get_weekly_url('25th Nov 2006') == 'Date must be type datetime')\n",
    "print(get_weekly_url(datetime(2000, 11, 20)) == 'Date must be from 25th Nov 2006 to 18th Nov 2017')\n",
    "print(get_weekly_url(datetime(2017, 11, 20)) == 'Date must be from 25th Nov 2006 to 18th Nov 2017')\n",
    "print(get_weekly_url(datetime(2007, 2, 17)) == 'http://www.vgchartz.com/weekly/39131/Global/')"
   ]
  },
  {
   "cell_type": "markdown",
   "metadata": {},
   "source": [
    "Create the PoolManager"
   ]
  },
  {
   "cell_type": "code",
   "execution_count": 12,
   "metadata": {},
   "outputs": [],
   "source": [
    "http = urllib3.PoolManager()"
   ]
  },
  {
   "cell_type": "markdown",
   "metadata": {},
   "source": [
    "Make the request \n",
    "\n",
    "and query the pages"
   ]
  },
  {
   "cell_type": "code",
   "execution_count": 65,
   "metadata": {
    "collapsed": true
   },
   "outputs": [],
   "source": [
    "vgchartz_main_response = http.request('GET', vgchartz_main_url)\n",
    "vgchartz_main_soup = BeautifulSoup(response.data, \"lxml\")\n",
    "\n",
    "vgchartz_week_response = http.request('GET', vgchartz_weekly_url)\n",
    "vgchartz_week_soup = BeautifulSoup(vgchartz_week_response.data, \"lxml\")"
   ]
  },
  {
   "cell_type": "markdown",
   "metadata": {
    "collapsed": true
   },
   "source": [
    "Now we have **soup**: the **HTML** of the VGCHartz pages.\n",
    "\n",
    "Now try to extract some useful data.\n",
    "\n",
    "There are 2 useful tables in weekly sales pages: **Global Hardware by Platform** & **Global Software by Platform**"
   ]
  },
  {
   "cell_type": "markdown",
   "metadata": {},
   "source": [
    "Example of the **Global Hardware by Platform** table:\n",
    "\n",
    "|Platform |\tWeekly (change) |\tTotal |\n",
    "|---------|-----------------|--------|\n",
    "|DS\t| 905,597\t(+88%) |\t29,319,098 |\n",
    "|Wii |\t529,658\t(N/A) |\t529,658 |\n",
    "|X360 |\t361,561\t(+87%) |\t5,943,800 |\n",
    "|PSP |\t352,884\t(+87%) |\t17,124,390 |\n",
    "|PS3 |\t103,130\t(-50%) |\t394,937 |\n"
   ]
  },
  {
   "cell_type": "code",
   "execution_count": 70,
   "metadata": {},
   "outputs": [],
   "source": [
    "tables = vgchartz_week_soup.find_all('h2', attrs={'class': 'heading'})"
   ]
  },
  {
   "cell_type": "code",
   "execution_count": 71,
   "metadata": {},
   "outputs": [
    {
     "name": "stdout",
     "output_type": "stream",
     "text": [
      "[<h2 class=\"heading\">Global Hardware by Platform</h2>, <h2 class=\"heading\">Global Software by Platform</h2>]\n"
     ]
    }
   ],
   "source": [
    "print(tables)"
   ]
  },
  {
   "cell_type": "markdown",
   "metadata": {},
   "source": [
    "## Part 1: Analyze the Weekly Sales"
   ]
  },
  {
   "cell_type": "code",
   "execution_count": null,
   "metadata": {
    "collapsed": true
   },
   "outputs": [],
   "source": []
  },
  {
   "cell_type": "code",
   "execution_count": null,
   "metadata": {
    "collapsed": true
   },
   "outputs": [],
   "source": []
  },
  {
   "cell_type": "code",
   "execution_count": null,
   "metadata": {
    "collapsed": true
   },
   "outputs": [],
   "source": []
  }
 ],
 "metadata": {
  "kernelspec": {
   "display_name": "Python 3",
   "language": "python",
   "name": "python3"
  },
  "language_info": {
   "codemirror_mode": {
    "name": "ipython",
    "version": 3
   },
   "file_extension": ".py",
   "mimetype": "text/x-python",
   "name": "python",
   "nbconvert_exporter": "python",
   "pygments_lexer": "ipython3",
   "version": "3.6.3"
  }
 },
 "nbformat": 4,
 "nbformat_minor": 2
}
