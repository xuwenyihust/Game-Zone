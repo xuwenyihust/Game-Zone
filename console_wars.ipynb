{
 "cells": [
  {
   "cell_type": "markdown",
   "metadata": {},
   "source": [
    "# GameZone\n",
    "\n",
    "### Console Wars\n",
    "\n",
    "### Author: Wenyi Xu\n",
    "\n",
    "Discuss the epic console war amongst **Sony**, **Microsoft** and **Nintendo**.\n",
    "\n",
    "Scape to get some datasets for analysis and visualization to show the sales and other statistics for different platforms."
   ]
  },
  {
   "cell_type": "markdown",
   "metadata": {},
   "source": [
    "## Backgroud Information\n",
    "\n",
    "### Playstation Release timeline\n",
    "\n",
    "* PS1 Release Date\tSaturday - December 3, 1994\n",
    "\n",
    "* PS2 Release Date\tSaturday - March 4, 2000\n",
    "\n",
    "* PS3 Release Date\tSaturday - November 11, 2006\n",
    "\n",
    "* PS4 Release Date\tFriday - Nov 15, 2013 \n",
    "\n",
    "* PS4 Pro Release\tThursday - Nov 10, 2016 \n",
    "\n",
    "### Playstation Release timeline\n",
    "\n",
    "* Xbox Release Date\t- November 15, 2001\n",
    "\n",
    "* Xbox 360 Release Date\t- November 22, 2005\n",
    "\n",
    "* Xbox One Release Date\t- November 22, 2013\n",
    "\n",
    "* Xbox One X Release Date - June 13, 2016\n",
    "\n",
    "### Nintendo Platforms release timeline\n",
    "\n",
    "* NES Release Date - July 15, 1983\n",
    "\n",
    "* Nintendo 64 Release Date - June 23, 1996\n",
    "\n",
    "* GameCube Release Date - September 14, 2001\n",
    "\n",
    "* Wii Release Date - November 19, 2006\n",
    "\n",
    "* Wii u Release Date - November 18, 2012\n",
    "\n",
    "* Switch Release Date - March 3, 2017\n"
   ]
  },
  {
   "cell_type": "markdown",
   "metadata": {},
   "source": [
    "## Part 0: Scrape VGChartz\n",
    "\n",
    "Scrape VGChartz to get useful datasets about game and hardware sales for different platforms.\n",
    "\n",
    "I can only find sales data of home video games consoles on VGChartz starting from 25th Nov 2006 (PS3 & XBOX360 & Wii), so the data of PS2 and other previous consoles need to be extracted from other sources."
   ]
  },
  {
   "cell_type": "code",
   "execution_count": 31,
   "metadata": {},
   "outputs": [
    {
     "data": {
      "text/html": [
       "<style>\n",
       "    table {\n",
       "        display: inline-block\n",
       "    }\n",
       "</style>"
      ],
      "text/plain": [
       "<IPython.core.display.HTML object>"
      ]
     },
     "metadata": {},
     "output_type": "display_data"
    }
   ],
   "source": [
    "%%html\n",
    "<style>\n",
    "    table {\n",
    "        display: inline-block\n",
    "    }\n",
    "</style>"
   ]
  },
  {
   "cell_type": "code",
   "execution_count": 142,
   "metadata": {},
   "outputs": [],
   "source": [
    "import urllib3\n",
    "from bs4 import BeautifulSoup\n",
    "import pandas as pd\n",
    "from datetime import date\n",
    "from datetime import datetime\n",
    "import math"
   ]
  },
  {
   "cell_type": "markdown",
   "metadata": {},
   "source": [
    "The VGChartz important pages that contain data we need"
   ]
  },
  {
   "cell_type": "code",
   "execution_count": 32,
   "metadata": {},
   "outputs": [],
   "source": [
    "# Main page\n",
    "vgchartz_main_url = 'http://www.vgchartz.com/'\n",
    "# Gloabl weekly sales\n",
    "# http://www.vgchartz.com/weekly/[date_id]/Global/\n",
    "# date_id: start from 39047 (25th Nov 2006) to 43058 (18th Nov 2017)\n",
    "date_id_start = 39047\n",
    "date_start = datetime(2006, 11, 25)\n",
    "date_id_end = 43058\n",
    "date_end = datetime(2017, 11, 18)\n",
    "\n",
    "date_id = 39047\n",
    "\n",
    "vgchartz_weekly_url_head = 'http://www.vgchartz.com/weekly/'\n",
    "vgchartz_weekly_url_tail = '/Global/'\n",
    "vgchartz_weekly_url = vgchartz_weekly_url_head + str(date_id) + vgchartz_weekly_url_tail"
   ]
  },
  {
   "cell_type": "markdown",
   "metadata": {},
   "source": [
    "Check if the date diff correspond to the date_id diff"
   ]
  },
  {
   "cell_type": "code",
   "execution_count": 27,
   "metadata": {},
   "outputs": [
    {
     "name": "stdout",
     "output_type": "stream",
     "text": [
      "4011 days, 0:00:00\n",
      "4011\n"
     ]
    }
   ],
   "source": [
    "print(datetime(2017, 11, 18) - date_start)\n",
    "print(43058 - 39047)"
   ]
  },
  {
   "cell_type": "markdown",
   "metadata": {},
   "source": [
    "### Function get_weekly_url\n",
    "\n",
    "**Date --> weekly_url**\n",
    "\n",
    "We have\n",
    "\n",
    "* Start date: date_start (25th Nov 2006)\n",
    "\n",
    "* Start date id: date_id_start (39047)\n",
    "\n",
    "* End date: date_end (18th Nov 2017)\n",
    "\n",
    "* End date id: date_id_end (43058)\n",
    "\n",
    "When given a random date between 25th Nov 2006 & 18th Nov 2017, we want to first get its corresponding week_id, and then generate its vgchartz_weekly_url\n"
   ]
  },
  {
   "cell_type": "code",
   "execution_count": 47,
   "metadata": {},
   "outputs": [],
   "source": [
    "# date: in datetime format\n",
    "def get_weekly_url(date):\n",
    "    \n",
    "    if type(date) != type(date_end):\n",
    "        return 'Date must be type datetime'\n",
    "    if date < date_start or date > date_end:\n",
    "        return 'Date must be from 25th Nov 2006 to 18th Nov 2017'\n",
    "    \n",
    "    date_diff = date - date_start\n",
    "    day_diff = date_diff.days\n",
    "    # Round up\n",
    "    week_diff = math.ceil(day_diff/7.0)\n",
    "    date_id = date_id_start + week_diff*7\n",
    "    \n",
    "    vgchartz_weekly_url = vgchartz_weekly_url_head + str(date_id) + vgchartz_weekly_url_tail\n",
    "    return vgchartz_weekly_url"
   ]
  },
  {
   "cell_type": "code",
   "execution_count": 52,
   "metadata": {},
   "outputs": [
    {
     "name": "stdout",
     "output_type": "stream",
     "text": [
      "True\n",
      "True\n",
      "True\n",
      "True\n"
     ]
    }
   ],
   "source": [
    "# Test the function get_weekly_url\n",
    "print(get_weekly_url('25th Nov 2006') == 'Date must be type datetime')\n",
    "print(get_weekly_url(datetime(2000, 11, 20)) == 'Date must be from 25th Nov 2006 to 18th Nov 2017')\n",
    "print(get_weekly_url(datetime(2017, 11, 20)) == 'Date must be from 25th Nov 2006 to 18th Nov 2017')\n",
    "print(get_weekly_url(datetime(2007, 2, 17)) == 'http://www.vgchartz.com/weekly/39131/Global/')"
   ]
  },
  {
   "cell_type": "markdown",
   "metadata": {},
   "source": [
    "Create the PoolManager"
   ]
  },
  {
   "cell_type": "code",
   "execution_count": 12,
   "metadata": {},
   "outputs": [],
   "source": [
    "http = urllib3.PoolManager()"
   ]
  },
  {
   "cell_type": "markdown",
   "metadata": {},
   "source": [
    "Make the request \n",
    "\n",
    "and query the pages"
   ]
  },
  {
   "cell_type": "code",
   "execution_count": 65,
   "metadata": {
    "collapsed": true
   },
   "outputs": [],
   "source": [
    "vgchartz_main_response = http.request('GET', vgchartz_main_url)\n",
    "vgchartz_main_soup = BeautifulSoup(response.data, \"lxml\")\n",
    "\n",
    "vgchartz_week_response = http.request('GET', vgchartz_weekly_url)\n",
    "vgchartz_week_soup = BeautifulSoup(vgchartz_week_response.data, \"lxml\")"
   ]
  },
  {
   "cell_type": "markdown",
   "metadata": {
    "collapsed": true
   },
   "source": [
    "Now we have **soup**: the **HTML** of the VGCHartz pages.\n",
    "\n",
    "Now try to extract some useful data.\n",
    "\n",
    "There are 2 useful tables in weekly sales pages: **Global Hardware by Platform** & **Global Software by Platform**"
   ]
  },
  {
   "cell_type": "markdown",
   "metadata": {},
   "source": [
    "Example of the **Global Hardware by Platform** table:\n",
    "\n",
    "|Platform |\tWeekly (change) |\tTotal |\n",
    "|---------|-----------------|--------|\n",
    "|DS\t| 905,597\t(+88%) |\t29,319,098 |\n",
    "|Wii |\t529,658\t(N/A) |\t529,658 |\n",
    "|X360 |\t361,561\t(+87%) |\t5,943,800 |\n",
    "|PSP |\t352,884\t(+87%) |\t17,124,390 |\n",
    "|PS3 |\t103,130\t(-50%) |\t394,937 |\n"
   ]
  },
  {
   "cell_type": "code",
   "execution_count": 113,
   "metadata": {},
   "outputs": [
    {
     "data": {
      "text/plain": [
       "[<h2 class=\"heading\">Global Hardware by Platform</h2>,\n",
       " <h2 class=\"heading\">Global Software by Platform</h2>]"
      ]
     },
     "execution_count": 113,
     "metadata": {},
     "output_type": "execute_result"
    }
   ],
   "source": [
    "tags = vgchartz_week_soup.find_all('h2', attrs={'class': 'heading'})\n",
    "tags"
   ]
  },
  {
   "cell_type": "markdown",
   "metadata": {},
   "source": [
    "Extract the table names from the corresponding tags"
   ]
  },
  {
   "cell_type": "code",
   "execution_count": 112,
   "metadata": {},
   "outputs": [
    {
     "data": {
      "text/plain": [
       "['Global Hardware by Platform', 'Global Software by Platform']"
      ]
     },
     "execution_count": 112,
     "metadata": {},
     "output_type": "execute_result"
    }
   ],
   "source": [
    "table_names = [tag.text for tag in tags]   \n",
    "table_names"
   ]
  },
  {
   "cell_type": "markdown",
   "metadata": {},
   "source": [
    "### Extract the Global Hardware by Platform table"
   ]
  },
  {
   "cell_type": "code",
   "execution_count": 123,
   "metadata": {},
   "outputs": [
    {
     "data": {
      "text/plain": [
       "4"
      ]
     },
     "execution_count": 123,
     "metadata": {},
     "output_type": "execute_result"
    }
   ],
   "source": [
    "charts = vgchartz_week_soup.find_all('table', class_=\"chart\")\n",
    "len(charts)"
   ]
  },
  {
   "cell_type": "markdown",
   "metadata": {},
   "source": [
    "After manually check the HTML, I found there are totally 4 charts per page.\n",
    "\n",
    "And the 'Global Hardware by Platform' is the 3rd one -_-"
   ]
  },
  {
   "cell_type": "code",
   "execution_count": 126,
   "metadata": {},
   "outputs": [
    {
     "data": {
      "text/plain": [
       "[<th align=\"left\">Platform</th>,\n",
       " <th align=\"right\" colspan=\"2\">Weekly <span style=\"font-size:70%;\">(change)</span></th>,\n",
       " <th align=\"right\">Total</th>,\n",
       " <th align=\"left\">Total</th>,\n",
       " <th align=\"right\" style=\"padding-right:1px;\">2,252,830</th>,\n",
       " <th align=\"left\" style=\"padding-left:2px;\"><span style=\"font-size:70%;\">(+111%)</span>\n",
       " </th>,\n",
       " <th align=\"left\"> </th>]"
      ]
     },
     "execution_count": 126,
     "metadata": {},
     "output_type": "execute_result"
    }
   ],
   "source": [
    "hardware_sale_table = charts[2]\n",
    "hardware_sale_table.find_all('th')"
   ]
  },
  {
   "cell_type": "markdown",
   "metadata": {},
   "source": [
    "Get all the **colume** names"
   ]
  },
  {
   "cell_type": "code",
   "execution_count": 128,
   "metadata": {},
   "outputs": [
    {
     "data": {
      "text/plain": [
       "['Platform', 'Weekly (change)', 'Total']"
      ]
     },
     "execution_count": 128,
     "metadata": {},
     "output_type": "execute_result"
    }
   ],
   "source": [
    "hardware_sale_cols = [x.text for x in hardware_sale_table.find_all('th')][:3]\n",
    "hardware_sale_cols"
   ]
  },
  {
   "cell_type": "code",
   "execution_count": 137,
   "metadata": {},
   "outputs": [
    {
     "data": {
      "text/plain": [
       "[<td align=\"left\">DS</td>,\n",
       " <td align=\"right\" style=\"padding-right:1px;\">905,597</td>,\n",
       " <td align=\"left\" style=\"padding-left:2px;\"><span style=\"font-size:70%;\">(+88%)</span></td>,\n",
       " <td align=\"right\">29,319,098</td>,\n",
       " <td align=\"left\">Wii</td>,\n",
       " <td align=\"right\" style=\"padding-right:1px;\">529,658</td>,\n",
       " <td align=\"left\" style=\"padding-left:2px;\"><span style=\"font-size:70%;\">(N/A)</span></td>,\n",
       " <td align=\"right\">529,658</td>,\n",
       " <td align=\"left\">X360</td>,\n",
       " <td align=\"right\" style=\"padding-right:1px;\">361,561</td>,\n",
       " <td align=\"left\" style=\"padding-left:2px;\"><span style=\"font-size:70%;\">(+87%)</span></td>,\n",
       " <td align=\"right\">5,943,800</td>,\n",
       " <td align=\"left\">PSP</td>,\n",
       " <td align=\"right\" style=\"padding-right:1px;\">352,884</td>,\n",
       " <td align=\"left\" style=\"padding-left:2px;\"><span style=\"font-size:70%;\">(+87%)</span></td>,\n",
       " <td align=\"right\">17,124,390</td>,\n",
       " <td align=\"left\">PS3</td>,\n",
       " <td align=\"right\" style=\"padding-right:1px;\">103,130</td>,\n",
       " <td align=\"left\" style=\"padding-left:2px;\"><span style=\"font-size:70%;\">(-50%)</span></td>,\n",
       " <td align=\"right\">394,937</td>]"
      ]
     },
     "execution_count": 137,
     "metadata": {},
     "output_type": "execute_result"
    }
   ],
   "source": [
    "hardware_sale_table.find_all('td', attrs={})"
   ]
  },
  {
   "cell_type": "code",
   "execution_count": 140,
   "metadata": {},
   "outputs": [
    {
     "data": {
      "text/plain": [
       "['DS',\n",
       " '905,597',\n",
       " '(+88%)',\n",
       " '29,319,098',\n",
       " 'Wii',\n",
       " '529,658',\n",
       " '(N/A)',\n",
       " '529,658',\n",
       " 'X360',\n",
       " '361,561',\n",
       " '(+87%)',\n",
       " '5,943,800',\n",
       " 'PSP',\n",
       " '352,884',\n",
       " '(+87%)',\n",
       " '17,124,390',\n",
       " 'PS3',\n",
       " '103,130',\n",
       " '(-50%)',\n",
       " '394,937']"
      ]
     },
     "execution_count": 140,
     "metadata": {},
     "output_type": "execute_result"
    }
   ],
   "source": [
    "hardware_sale_rows = hardware_sale_table.find_all('td', attrs={})\n",
    "hardware_sale_rows = [row.text.strip() for row in hardware_sale_rows]\n",
    "hardware_sale_rows"
   ]
  },
  {
   "cell_type": "markdown",
   "metadata": {},
   "source": [
    "### Function get_weekly_hardware_sales\n",
    "\n",
    "**Date --> weekly hardware sales data**\n",
    "\n",
    "Given a date from 25th Nov 2006 to 18th Nov 2017, we want to get which week this date is in, and get its corresponding weekly hardware sales data"
   ]
  },
  {
   "cell_type": "code",
   "execution_count": 149,
   "metadata": {
    "collapsed": true
   },
   "outputs": [],
   "source": [
    "# date: in datetime format\n",
    "def get_weekly_hardware_sales(date):\n",
    "    \n",
    "    # Get the corresponding weekly_url from input date\n",
    "    weekly_url = get_weekly_url(date)\n",
    "    # Create the pool manager\n",
    "    pool_manager = urllib3.PoolManager()\n",
    "    \n",
    "    weekly_response = pool_manager.request('GET', weekly_url)\n",
    "    weekly_soup = BeautifulSoup(weekly_response.data, \"lxml\")\n",
    "    \n",
    "    # Get the weekly hardware sales table\n",
    "    weekly_charts = weekly_soup.find_all('table', class_=\"chart\")\n",
    "    weekly_hardware_sale_table = weekly_charts[2]\n",
    "    # Get the colume names\n",
    "    # Columes should be 'Platforms', 'Weekly Sales', 'Weekly Sales Changes', 'Total Sales'\n",
    "    platforms = []\n",
    "    weekly_sales = []\n",
    "    weekly_sales_changes = []\n",
    "    total_sales = []\n",
    "    weekly_hardware_sale_cols = [x.text for x in weekly_hardware_sale_table.find_all('th')][:3]\n",
    "    # Get the rows\n",
    "    weekly_hardware_sale_rows = weekly_hardware_sale_table.find_all('td', attrs={})\n",
    "    weekly_hardware_sale_rows = [row.text.strip() for row in weekly_hardware_sale_rows]   \n",
    "    # Distribute data of diff fields into diff lists\n",
    "    for i in range(len(weekly_hardware_sale_rows)):\n",
    "        if i%4 == 0:\n",
    "            platforms.append(weekly_hardware_sale_rows[i])\n",
    "        elif i%4 == 1:\n",
    "            weekly_sales.append(weekly_hardware_sale_rows[i])\n",
    "        elif i%4 == 2:\n",
    "            weekly_sales_changes.append(weekly_hardware_sale_rows[i])\n",
    "        else:\n",
    "            total_sales.append(weekly_hardware_sale_rows[i])\n",
    "            \n",
    "    weekly_hardware_sales_df = pd.DataFrame({'Platforms': platforms, \\\n",
    "                                      'Weekly Sales': weekly_sales, \\\n",
    "                                      'Weekly Sales Changes': weekly_sales_changes, \\\n",
    "                                      'Total Sales': total_sales\n",
    "                                     })\n",
    "    return weekly_hardware_sales_df"
   ]
  },
  {
   "cell_type": "code",
   "execution_count": 150,
   "metadata": {},
   "outputs": [
    {
     "data": {
      "text/html": [
       "<div>\n",
       "<style>\n",
       "    .dataframe thead tr:only-child th {\n",
       "        text-align: right;\n",
       "    }\n",
       "\n",
       "    .dataframe thead th {\n",
       "        text-align: left;\n",
       "    }\n",
       "\n",
       "    .dataframe tbody tr th {\n",
       "        vertical-align: top;\n",
       "    }\n",
       "</style>\n",
       "<table border=\"1\" class=\"dataframe\">\n",
       "  <thead>\n",
       "    <tr style=\"text-align: right;\">\n",
       "      <th></th>\n",
       "      <th>Platforms</th>\n",
       "      <th>Total Sales</th>\n",
       "      <th>Weekly Sales</th>\n",
       "      <th>Weekly Sales Changes</th>\n",
       "    </tr>\n",
       "  </thead>\n",
       "  <tbody>\n",
       "    <tr>\n",
       "      <th>0</th>\n",
       "      <td>DS</td>\n",
       "      <td>56,338,561</td>\n",
       "      <td>1,353,850</td>\n",
       "      <td>(+105%)</td>\n",
       "    </tr>\n",
       "    <tr>\n",
       "      <th>1</th>\n",
       "      <td>Wii</td>\n",
       "      <td>15,192,774</td>\n",
       "      <td>673,069</td>\n",
       "      <td>(+46%)</td>\n",
       "    </tr>\n",
       "    <tr>\n",
       "      <th>2</th>\n",
       "      <td>PSP</td>\n",
       "      <td>29,233,466</td>\n",
       "      <td>446,202</td>\n",
       "      <td>(+60%)</td>\n",
       "    </tr>\n",
       "    <tr>\n",
       "      <th>3</th>\n",
       "      <td>X360</td>\n",
       "      <td>13,704,598</td>\n",
       "      <td>414,403</td>\n",
       "      <td>(+82%)</td>\n",
       "    </tr>\n",
       "    <tr>\n",
       "      <th>4</th>\n",
       "      <td>PS3</td>\n",
       "      <td>6,638,792</td>\n",
       "      <td>376,441</td>\n",
       "      <td>(+46%)</td>\n",
       "    </tr>\n",
       "  </tbody>\n",
       "</table>\n",
       "</div>"
      ],
      "text/plain": [
       "  Platforms Total Sales Weekly Sales Weekly Sales Changes\n",
       "0        DS  56,338,561    1,353,850              (+105%)\n",
       "1       Wii  15,192,774      673,069               (+46%)\n",
       "2       PSP  29,233,466      446,202               (+60%)\n",
       "3      X360  13,704,598      414,403               (+82%)\n",
       "4       PS3   6,638,792      376,441               (+46%)"
      ]
     },
     "execution_count": 150,
     "metadata": {},
     "output_type": "execute_result"
    }
   ],
   "source": [
    "date = datetime(2007, 11, 20)\n",
    "get_weekly_hardware_sales(date)"
   ]
  },
  {
   "cell_type": "markdown",
   "metadata": {},
   "source": [
    "## Part 1: Analyze the Weekly Sales"
   ]
  },
  {
   "cell_type": "code",
   "execution_count": null,
   "metadata": {
    "collapsed": true
   },
   "outputs": [],
   "source": []
  },
  {
   "cell_type": "code",
   "execution_count": null,
   "metadata": {
    "collapsed": true
   },
   "outputs": [],
   "source": []
  },
  {
   "cell_type": "code",
   "execution_count": null,
   "metadata": {
    "collapsed": true
   },
   "outputs": [],
   "source": []
  }
 ],
 "metadata": {
  "kernelspec": {
   "display_name": "Python 3",
   "language": "python",
   "name": "python3"
  },
  "language_info": {
   "codemirror_mode": {
    "name": "ipython",
    "version": 3
   },
   "file_extension": ".py",
   "mimetype": "text/x-python",
   "name": "python",
   "nbconvert_exporter": "python",
   "pygments_lexer": "ipython3",
   "version": "3.6.3"
  }
 },
 "nbformat": 4,
 "nbformat_minor": 2
}
